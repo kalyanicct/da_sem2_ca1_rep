{
 "cells": [
  {
   "cell_type": "code",
   "execution_count": 1,
   "id": "e0f4a5aa",
   "metadata": {},
   "outputs": [],
   "source": [
    "# Importing necessary libraries\n",
    "from pyspark.sql import SparkSession\n",
    "from pyspark.sql.functions import col\n",
    "import matplotlib.pyplot as plt"
   ]
  },
  {
   "cell_type": "code",
   "execution_count": 2,
   "id": "18fe6ffc",
   "metadata": {},
   "outputs": [
    {
     "name": "stderr",
     "output_type": "stream",
     "text": [
      "24/04/01 18:43:34 WARN SparkSession: Using an existing Spark session; only runtime SQL configurations will take effect.\n"
     ]
    }
   ],
   "source": [
    "#Creating a SparkSession\n",
    "spark = SparkSession.builder \\\n",
    "    .appName(\"TrafficVolumeAnalysis\") \\\n",
    "    .getOrCreate()"
   ]
  },
  {
   "cell_type": "code",
   "execution_count": 3,
   "id": "7e4cebf6",
   "metadata": {},
   "outputs": [],
   "source": [
    "#Loading the dataset into a PySpark DataFrame\n",
    "file_path = \"file:///home/hduser/Desktop/SEM2_CA1/da_sem2_ca1_rep/dataset.csv\"\n",
    "df = spark.read.csv(file_path, header=True)"
   ]
  },
  {
   "cell_type": "code",
   "execution_count": 4,
   "id": "c5e37713",
   "metadata": {},
   "outputs": [
    {
     "name": "stdout",
     "output_type": "stream",
     "text": [
      "root\n",
      " |-- STATISTIC: string (nullable = true)\n",
      " |-- Statistic Label: string (nullable = true)\n",
      " |-- TLIST(A1): string (nullable = true)\n",
      " |-- Year: string (nullable = true)\n",
      " |-- C02875V03459: string (nullable = true)\n",
      " |-- Type of Vehicle: string (nullable = true)\n",
      " |-- UNIT: string (nullable = true)\n",
      " |-- VALUE: string (nullable = true)\n",
      "\n"
     ]
    }
   ],
   "source": [
    "# Displaying schema\n",
    "df.printSchema()"
   ]
  },
  {
   "cell_type": "code",
   "execution_count": 5,
   "id": "7b2ff236",
   "metadata": {},
   "outputs": [
    {
     "name": "stdout",
     "output_type": "stream",
     "text": [
      "+---------+---------------+---------+----+------------+--------------------+------+-------+\n",
      "|STATISTIC|Statistic Label|TLIST(A1)|Year|C02875V03459|     Type of Vehicle|  UNIT|  VALUE|\n",
      "+---------+---------------+---------+----+------------+--------------------+------+-------+\n",
      "|  THA10C1| Traffic Volume|     2000|2000|           -|   All vehicle types|Number|1666744|\n",
      "|  THA10C1| Traffic Volume|     2000|2000|          10|        Private cars|Number|1314059|\n",
      "|  THA10C1| Traffic Volume|     2000|2000|          20|      Goods vehicles|Number| 199259|\n",
      "|  THA10C1| Traffic Volume|     2000|2000|          30|        Motor cycles|Number|  28489|\n",
      "|  THA10C1| Traffic Volume|     2000|2000|          40|Tractors & Machinery|Number|  74211|\n",
      "+---------+---------------+---------+----+------------+--------------------+------+-------+\n",
      "only showing top 5 rows\n",
      "\n"
     ]
    }
   ],
   "source": [
    "# Displaying first few rows\n",
    "df.show(5)"
   ]
  },
  {
   "cell_type": "code",
   "execution_count": 6,
   "id": "1c6e97f4",
   "metadata": {},
   "outputs": [
    {
     "name": "stderr",
     "output_type": "stream",
     "text": [
      "24/04/01 18:43:40 WARN package: Truncated the string representation of a plan since it was too large. This behavior can be adjusted by setting 'spark.sql.debug.maxToStringFields'.\n",
      "[Stage 2:>                                                          (0 + 1) / 1]\r"
     ]
    },
    {
     "name": "stdout",
     "output_type": "stream",
     "text": [
      "+-------+---------+--------------------+-----------------+-----------------+------------------+--------------------+----------+-----------------+\n",
      "|summary|STATISTIC|     Statistic Label|        TLIST(A1)|             Year|      C02875V03459|     Type of Vehicle|      UNIT|            VALUE|\n",
      "+-------+---------+--------------------+-----------------+-----------------+------------------+--------------------+----------+-----------------+\n",
      "|  count|      621|                 621|              621|              621|               621|                 621|       621|              621|\n",
      "|   mean|     null|                null|           2011.0|           2011.0|              45.0|                null|      null|187615.0499194847|\n",
      "| stddev|     null|                null|6.638596820257663|6.638596820257663|22.933661135264696|                null|      null|566037.9054208661|\n",
      "|    min|  THA10C1|Average Kilometre...|             2000|             2000|                 -|   All vehicle types|Kilometres|             1006|\n",
      "|    max|  THA10C3|      Traffic Volume|             2022|             2022|                80|Tractors & Machinery|    Number|              970|\n",
      "+-------+---------+--------------------+-----------------+-----------------+------------------+--------------------+----------+-----------------+\n",
      "\n"
     ]
    },
    {
     "name": "stderr",
     "output_type": "stream",
     "text": [
      "\r",
      "                                                                                \r"
     ]
    }
   ],
   "source": [
    "# Summary statistics\n",
    "df.describe().show()"
   ]
  },
  {
   "cell_type": "code",
   "execution_count": 7,
   "id": "5fc58d71",
   "metadata": {},
   "outputs": [],
   "source": [
    "# Dropping columns \n",
    "columns_to_drop = ['STATISTICS', 'TLIST(A1)', 'C02875V03459', 'UNIT']\n",
    "df = df.drop(*columns_to_drop)"
   ]
  },
  {
   "cell_type": "code",
   "execution_count": 8,
   "id": "ce34f7b1",
   "metadata": {},
   "outputs": [
    {
     "name": "stdout",
     "output_type": "stream",
     "text": [
      "+---------+---------------+----+--------------------+-------+\n",
      "|STATISTIC|Statistic Label|Year|     Type of Vehicle|  VALUE|\n",
      "+---------+---------------+----+--------------------+-------+\n",
      "|  THA10C1| Traffic Volume|2000|   All vehicle types|1666744|\n",
      "|  THA10C1| Traffic Volume|2000|        Private cars|1314059|\n",
      "|  THA10C1| Traffic Volume|2000|      Goods vehicles| 199259|\n",
      "|  THA10C1| Traffic Volume|2000|        Motor cycles|  28489|\n",
      "|  THA10C1| Traffic Volume|2000|Tractors & Machinery|  74211|\n",
      "+---------+---------------+----+--------------------+-------+\n",
      "only showing top 5 rows\n",
      "\n"
     ]
    }
   ],
   "source": [
    "# Displaying first few rows\n",
    "df.show(5)"
   ]
  },
  {
   "cell_type": "code",
   "execution_count": 9,
   "id": "bd522fc3",
   "metadata": {},
   "outputs": [
    {
     "name": "stdout",
     "output_type": "stream",
     "text": [
      "+-------+---------+--------------------+-----------------+--------------------+-----------------+\n",
      "|summary|STATISTIC|     Statistic Label|             Year|     Type of Vehicle|            VALUE|\n",
      "+-------+---------+--------------------+-----------------+--------------------+-----------------+\n",
      "|  count|      621|                 621|              621|                 621|              621|\n",
      "|   mean|     null|                null|           2011.0|                null|187615.0499194847|\n",
      "| stddev|     null|                null|6.638596820257663|                null|566037.9054208661|\n",
      "|    min|  THA10C1|Average Kilometre...|             2000|   All vehicle types|             1006|\n",
      "|    max|  THA10C3|      Traffic Volume|             2022|Tractors & Machinery|              970|\n",
      "+-------+---------+--------------------+-----------------+--------------------+-----------------+\n",
      "\n"
     ]
    }
   ],
   "source": [
    "# Summary statistics\n",
    "df.describe().show()"
   ]
  },
  {
   "cell_type": "code",
   "execution_count": 10,
   "id": "87cf151b",
   "metadata": {},
   "outputs": [],
   "source": [
    "#Filtering thr rows as required\n",
    "df = df.filter(df['Statistic Label'] == \"Traffic Volume\")"
   ]
  },
  {
   "cell_type": "code",
   "execution_count": 11,
   "id": "e62f3095",
   "metadata": {},
   "outputs": [
    {
     "name": "stdout",
     "output_type": "stream",
     "text": [
      "+---------+---------------+----+--------------------+-------+\n",
      "|STATISTIC|Statistic Label|Year|     Type of Vehicle|  VALUE|\n",
      "+---------+---------------+----+--------------------+-------+\n",
      "|  THA10C1| Traffic Volume|2000|   All vehicle types|1666744|\n",
      "|  THA10C1| Traffic Volume|2000|        Private cars|1314059|\n",
      "|  THA10C1| Traffic Volume|2000|      Goods vehicles| 199259|\n",
      "|  THA10C1| Traffic Volume|2000|        Motor cycles|  28489|\n",
      "|  THA10C1| Traffic Volume|2000|Tractors & Machinery|  74211|\n",
      "|  THA10C1| Traffic Volume|2000|          Small PSVs|  13983|\n",
      "|  THA10C1| Traffic Volume|2000|          Large PSVs|   6726|\n",
      "|  THA10C1| Traffic Volume|2000|     Exempt vehicles|  12448|\n",
      "|  THA10C1| Traffic Volume|2000|      Other vehicles|  17569|\n",
      "|  THA10C1| Traffic Volume|2001|   All vehicle types|1748599|\n",
      "|  THA10C1| Traffic Volume|2001|        Private cars|1372672|\n",
      "|  THA10C1| Traffic Volume|2001|      Goods vehicles| 214767|\n",
      "|  THA10C1| Traffic Volume|2001|        Motor cycles|  31589|\n",
      "|  THA10C1| Traffic Volume|2001|Tractors & Machinery|  73281|\n",
      "|  THA10C1| Traffic Volume|2001|          Small PSVs|  15799|\n",
      "|  THA10C1| Traffic Volume|2001|          Large PSVs|   6985|\n",
      "|  THA10C1| Traffic Volume|2001|     Exempt vehicles|  13744|\n",
      "|  THA10C1| Traffic Volume|2001|      Other vehicles|  19762|\n",
      "|  THA10C1| Traffic Volume|2002|   All vehicle types|1833705|\n",
      "|  THA10C1| Traffic Volume|2002|        Private cars|1437985|\n",
      "+---------+---------------+----+--------------------+-------+\n",
      "only showing top 20 rows\n",
      "\n"
     ]
    }
   ],
   "source": [
    "df.show()"
   ]
  },
  {
   "cell_type": "code",
   "execution_count": 12,
   "id": "2ca2cfc8",
   "metadata": {},
   "outputs": [
    {
     "ename": "ImportError",
     "evalue": "Pandas >= 1.0.5 must be installed; however, it was not found.",
     "output_type": "error",
     "traceback": [
      "\u001b[0;31m---------------------------------------------------------------------------\u001b[0m",
      "\u001b[0;31mModuleNotFoundError\u001b[0m                       Traceback (most recent call last)",
      "\u001b[0;32m/usr/local/spark/python/pyspark/sql/pandas/utils.py\u001b[0m in \u001b[0;36mrequire_minimum_pandas_version\u001b[0;34m()\u001b[0m\n\u001b[1;32m     26\u001b[0m     \u001b[0;32mtry\u001b[0m\u001b[0;34m:\u001b[0m\u001b[0;34m\u001b[0m\u001b[0;34m\u001b[0m\u001b[0m\n\u001b[0;32m---> 27\u001b[0;31m         \u001b[0;32mimport\u001b[0m \u001b[0mpandas\u001b[0m\u001b[0;34m\u001b[0m\u001b[0;34m\u001b[0m\u001b[0m\n\u001b[0m\u001b[1;32m     28\u001b[0m \u001b[0;34m\u001b[0m\u001b[0m\n",
      "\u001b[0;31mModuleNotFoundError\u001b[0m: No module named 'pandas'",
      "\nThe above exception was the direct cause of the following exception:\n",
      "\u001b[0;31mImportError\u001b[0m                               Traceback (most recent call last)",
      "\u001b[0;32m/tmp/ipykernel_11713/1777986111.py\u001b[0m in \u001b[0;36m<module>\u001b[0;34m\u001b[0m\n\u001b[1;32m      1\u001b[0m \u001b[0;31m# Converting Spark DataFrame to Pandas DataFrame for visualization\u001b[0m\u001b[0;34m\u001b[0m\u001b[0;34m\u001b[0m\u001b[0m\n\u001b[0;32m----> 2\u001b[0;31m \u001b[0mpandas_df\u001b[0m \u001b[0;34m=\u001b[0m \u001b[0mdf\u001b[0m\u001b[0;34m.\u001b[0m\u001b[0mtoPandas\u001b[0m\u001b[0;34m(\u001b[0m\u001b[0;34m)\u001b[0m\u001b[0;34m\u001b[0m\u001b[0;34m\u001b[0m\u001b[0m\n\u001b[0m",
      "\u001b[0;32m/usr/local/spark/python/pyspark/sql/pandas/conversion.py\u001b[0m in \u001b[0;36mtoPandas\u001b[0;34m(self)\u001b[0m\n\u001b[1;32m     87\u001b[0m         \u001b[0;32mfrom\u001b[0m \u001b[0mpyspark\u001b[0m\u001b[0;34m.\u001b[0m\u001b[0msql\u001b[0m\u001b[0;34m.\u001b[0m\u001b[0mpandas\u001b[0m\u001b[0;34m.\u001b[0m\u001b[0mutils\u001b[0m \u001b[0;32mimport\u001b[0m \u001b[0mrequire_minimum_pandas_version\u001b[0m\u001b[0;34m\u001b[0m\u001b[0;34m\u001b[0m\u001b[0m\n\u001b[1;32m     88\u001b[0m \u001b[0;34m\u001b[0m\u001b[0m\n\u001b[0;32m---> 89\u001b[0;31m         \u001b[0mrequire_minimum_pandas_version\u001b[0m\u001b[0;34m(\u001b[0m\u001b[0;34m)\u001b[0m\u001b[0;34m\u001b[0m\u001b[0;34m\u001b[0m\u001b[0m\n\u001b[0m\u001b[1;32m     90\u001b[0m \u001b[0;34m\u001b[0m\u001b[0m\n\u001b[1;32m     91\u001b[0m         \u001b[0;32mimport\u001b[0m \u001b[0mnumpy\u001b[0m \u001b[0;32mas\u001b[0m \u001b[0mnp\u001b[0m\u001b[0;34m\u001b[0m\u001b[0;34m\u001b[0m\u001b[0m\n",
      "\u001b[0;32m/usr/local/spark/python/pyspark/sql/pandas/utils.py\u001b[0m in \u001b[0;36mrequire_minimum_pandas_version\u001b[0;34m()\u001b[0m\n\u001b[1;32m     32\u001b[0m         \u001b[0mraised_error\u001b[0m \u001b[0;34m=\u001b[0m \u001b[0merror\u001b[0m\u001b[0;34m\u001b[0m\u001b[0;34m\u001b[0m\u001b[0m\n\u001b[1;32m     33\u001b[0m     \u001b[0;32mif\u001b[0m \u001b[0;32mnot\u001b[0m \u001b[0mhave_pandas\u001b[0m\u001b[0;34m:\u001b[0m\u001b[0;34m\u001b[0m\u001b[0;34m\u001b[0m\u001b[0m\n\u001b[0;32m---> 34\u001b[0;31m         raise ImportError(\n\u001b[0m\u001b[1;32m     35\u001b[0m             \u001b[0;34m\"Pandas >= %s must be installed; however, \"\u001b[0m \u001b[0;34m\"it was not found.\"\u001b[0m \u001b[0;34m%\u001b[0m \u001b[0mminimum_pandas_version\u001b[0m\u001b[0;34m\u001b[0m\u001b[0;34m\u001b[0m\u001b[0m\n\u001b[1;32m     36\u001b[0m         ) from raised_error\n",
      "\u001b[0;31mImportError\u001b[0m: Pandas >= 1.0.5 must be installed; however, it was not found."
     ]
    }
   ],
   "source": [
    "# Converting Spark DataFrame to Pandas DataFrame for visualization\n",
    "pandas_df = df.toPandas()"
   ]
  },
  {
   "cell_type": "code",
   "execution_count": null,
   "id": "3486db6c",
   "metadata": {},
   "outputs": [],
   "source": []
  }
 ],
 "metadata": {
  "kernelspec": {
   "display_name": "Python 3 (ipykernel)",
   "language": "python",
   "name": "python3"
  },
  "language_info": {
   "codemirror_mode": {
    "name": "ipython",
    "version": 3
   },
   "file_extension": ".py",
   "mimetype": "text/x-python",
   "name": "python",
   "nbconvert_exporter": "python",
   "pygments_lexer": "ipython3",
   "version": "3.10.12"
  }
 },
 "nbformat": 4,
 "nbformat_minor": 5
}
