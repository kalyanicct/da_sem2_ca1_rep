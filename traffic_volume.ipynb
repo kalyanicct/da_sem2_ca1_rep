{
 "cells": [
  {
   "cell_type": "code",
   "execution_count": 1,
   "id": "e0f4a5aa",
   "metadata": {},
   "outputs": [],
   "source": [
    "# Importing necessary libraries\n",
    "from pyspark.sql import SparkSession\n",
    "from pyspark.sql.functions import col, when\n",
    "import matplotlib.pyplot as plt\n",
    "from pyspark.ml.feature import VectorAssembler\n",
    "from pyspark.ml.regression import RandomForestRegressor\n",
    "from pyspark.ml.evaluation import RegressionEvaluator\n",
    "from pyspark.ml.feature import StringIndexer\n",
    "from pyspark.ml.feature import Imputer\n",
    "from pyspark.sql import SparkSession\n",
    "from pyspark.ml.feature import VectorAssembler, StandardScaler\n",
    "from pyspark.ml.evaluation import MulticlassClassificationEvaluator\n",
    "from pyspark.ml.classification import MultilayerPerceptronClassifier\n",
    "from pyspark.ml import Pipeline\n",
    "from pyspark.sql.functions import col"
   ]
  },
  {
   "cell_type": "code",
   "execution_count": 2,
   "id": "18fe6ffc",
   "metadata": {},
   "outputs": [
    {
     "name": "stderr",
     "output_type": "stream",
     "text": [
      "24/04/01 20:14:11 WARN SparkSession: Using an existing Spark session; only runtime SQL configurations will take effect.\n"
     ]
    }
   ],
   "source": [
    "#Creating a SparkSession\n",
    "spark = SparkSession.builder \\\n",
    "    .appName(\"TrafficVolumeAnalysis\") \\\n",
    "    .getOrCreate()"
   ]
  },
  {
   "cell_type": "code",
   "execution_count": 3,
   "id": "7e4cebf6",
   "metadata": {},
   "outputs": [
    {
     "name": "stderr",
     "output_type": "stream",
     "text": [
      "\r",
      "[Stage 0:>                                                          (0 + 1) / 1]\r",
      "\r",
      "                                                                                \r"
     ]
    }
   ],
   "source": [
    "#Loading the dataset into a PySpark DataFrame\n",
    "file_path = \"file:///home/hduser/Desktop/SEM2_CA1/da_sem2_ca1_rep/dataset.csv\"\n",
    "df = spark.read.csv(file_path, header=True)"
   ]
  },
  {
   "cell_type": "code",
   "execution_count": 4,
   "id": "c5e37713",
   "metadata": {},
   "outputs": [
    {
     "name": "stdout",
     "output_type": "stream",
     "text": [
      "root\n",
      " |-- STATISTIC: string (nullable = true)\n",
      " |-- Statistic Label: string (nullable = true)\n",
      " |-- TLIST(A1): string (nullable = true)\n",
      " |-- Year: string (nullable = true)\n",
      " |-- C02875V03459: string (nullable = true)\n",
      " |-- Type of Vehicle: string (nullable = true)\n",
      " |-- UNIT: string (nullable = true)\n",
      " |-- VALUE: string (nullable = true)\n",
      "\n"
     ]
    }
   ],
   "source": [
    "# Displaying schema\n",
    "df.printSchema()"
   ]
  },
  {
   "cell_type": "code",
   "execution_count": 5,
   "id": "7b2ff236",
   "metadata": {},
   "outputs": [
    {
     "name": "stdout",
     "output_type": "stream",
     "text": [
      "+---------+---------------+---------+----+------------+--------------------+------+-------+\n",
      "|STATISTIC|Statistic Label|TLIST(A1)|Year|C02875V03459|     Type of Vehicle|  UNIT|  VALUE|\n",
      "+---------+---------------+---------+----+------------+--------------------+------+-------+\n",
      "|  THA10C1| Traffic Volume|     2000|2000|           -|   All vehicle types|Number|1666744|\n",
      "|  THA10C1| Traffic Volume|     2000|2000|          10|        Private cars|Number|1314059|\n",
      "|  THA10C1| Traffic Volume|     2000|2000|          20|      Goods vehicles|Number| 199259|\n",
      "|  THA10C1| Traffic Volume|     2000|2000|          30|        Motor cycles|Number|  28489|\n",
      "|  THA10C1| Traffic Volume|     2000|2000|          40|Tractors & Machinery|Number|  74211|\n",
      "+---------+---------------+---------+----+------------+--------------------+------+-------+\n",
      "only showing top 5 rows\n",
      "\n"
     ]
    }
   ],
   "source": [
    "# Displaying first few rows\n",
    "df.show(5)"
   ]
  },
  {
   "cell_type": "code",
   "execution_count": 6,
   "id": "1c6e97f4",
   "metadata": {},
   "outputs": [
    {
     "name": "stderr",
     "output_type": "stream",
     "text": [
      "24/04/01 20:14:17 WARN package: Truncated the string representation of a plan since it was too large. This behavior can be adjusted by setting 'spark.sql.debug.maxToStringFields'.\n",
      "[Stage 2:>                                                          (0 + 1) / 1]\r"
     ]
    },
    {
     "name": "stdout",
     "output_type": "stream",
     "text": [
      "+-------+---------+--------------------+-----------------+-----------------+------------------+--------------------+----------+-----------------+\n",
      "|summary|STATISTIC|     Statistic Label|        TLIST(A1)|             Year|      C02875V03459|     Type of Vehicle|      UNIT|            VALUE|\n",
      "+-------+---------+--------------------+-----------------+-----------------+------------------+--------------------+----------+-----------------+\n",
      "|  count|      621|                 621|              621|              621|               621|                 621|       621|              621|\n",
      "|   mean|     null|                null|           2011.0|           2011.0|              45.0|                null|      null|187615.0499194847|\n",
      "| stddev|     null|                null|6.638596820257663|6.638596820257663|22.933661135264696|                null|      null|566037.9054208661|\n",
      "|    min|  THA10C1|Average Kilometre...|             2000|             2000|                 -|   All vehicle types|Kilometres|             1006|\n",
      "|    max|  THA10C3|      Traffic Volume|             2022|             2022|                80|Tractors & Machinery|    Number|              970|\n",
      "+-------+---------+--------------------+-----------------+-----------------+------------------+--------------------+----------+-----------------+\n",
      "\n"
     ]
    },
    {
     "name": "stderr",
     "output_type": "stream",
     "text": [
      "\r",
      "[Stage 4:>                                                          (0 + 1) / 1]\r",
      "\r",
      "                                                                                \r"
     ]
    }
   ],
   "source": [
    "# Summary statistics\n",
    "df.describe().show()"
   ]
  },
  {
   "cell_type": "code",
   "execution_count": 7,
   "id": "5fc58d71",
   "metadata": {},
   "outputs": [],
   "source": [
    "# Dropping columns \n",
    "columns_to_drop = ['STATISTICS', 'TLIST(A1)', 'C02875V03459', 'UNIT']\n",
    "df = df.drop(*columns_to_drop)"
   ]
  },
  {
   "cell_type": "code",
   "execution_count": 8,
   "id": "ce34f7b1",
   "metadata": {},
   "outputs": [
    {
     "name": "stdout",
     "output_type": "stream",
     "text": [
      "+---------+---------------+----+--------------------+-------+\n",
      "|STATISTIC|Statistic Label|Year|     Type of Vehicle|  VALUE|\n",
      "+---------+---------------+----+--------------------+-------+\n",
      "|  THA10C1| Traffic Volume|2000|   All vehicle types|1666744|\n",
      "|  THA10C1| Traffic Volume|2000|        Private cars|1314059|\n",
      "|  THA10C1| Traffic Volume|2000|      Goods vehicles| 199259|\n",
      "|  THA10C1| Traffic Volume|2000|        Motor cycles|  28489|\n",
      "|  THA10C1| Traffic Volume|2000|Tractors & Machinery|  74211|\n",
      "+---------+---------------+----+--------------------+-------+\n",
      "only showing top 5 rows\n",
      "\n"
     ]
    }
   ],
   "source": [
    "# Displaying first few rows\n",
    "df.show(5)"
   ]
  },
  {
   "cell_type": "code",
   "execution_count": 9,
   "id": "bd522fc3",
   "metadata": {},
   "outputs": [
    {
     "name": "stdout",
     "output_type": "stream",
     "text": [
      "+-------+---------+--------------------+-----------------+--------------------+-----------------+\n",
      "|summary|STATISTIC|     Statistic Label|             Year|     Type of Vehicle|            VALUE|\n",
      "+-------+---------+--------------------+-----------------+--------------------+-----------------+\n",
      "|  count|      621|                 621|              621|                 621|              621|\n",
      "|   mean|     null|                null|           2011.0|                null|187615.0499194847|\n",
      "| stddev|     null|                null|6.638596820257663|                null|566037.9054208661|\n",
      "|    min|  THA10C1|Average Kilometre...|             2000|   All vehicle types|             1006|\n",
      "|    max|  THA10C3|      Traffic Volume|             2022|Tractors & Machinery|              970|\n",
      "+-------+---------+--------------------+-----------------+--------------------+-----------------+\n",
      "\n"
     ]
    }
   ],
   "source": [
    "# Summary statistics\n",
    "df.describe().show()"
   ]
  },
  {
   "cell_type": "code",
   "execution_count": 10,
   "id": "87cf151b",
   "metadata": {},
   "outputs": [],
   "source": [
    "#Filtering thr rows as required\n",
    "df = df.filter(df['Statistic Label'] == \"Traffic Volume\")"
   ]
  },
  {
   "cell_type": "code",
   "execution_count": 11,
   "id": "e62f3095",
   "metadata": {},
   "outputs": [
    {
     "name": "stdout",
     "output_type": "stream",
     "text": [
      "+---------+---------------+----+--------------------+-------+\n",
      "|STATISTIC|Statistic Label|Year|     Type of Vehicle|  VALUE|\n",
      "+---------+---------------+----+--------------------+-------+\n",
      "|  THA10C1| Traffic Volume|2000|   All vehicle types|1666744|\n",
      "|  THA10C1| Traffic Volume|2000|        Private cars|1314059|\n",
      "|  THA10C1| Traffic Volume|2000|      Goods vehicles| 199259|\n",
      "|  THA10C1| Traffic Volume|2000|        Motor cycles|  28489|\n",
      "|  THA10C1| Traffic Volume|2000|Tractors & Machinery|  74211|\n",
      "|  THA10C1| Traffic Volume|2000|          Small PSVs|  13983|\n",
      "|  THA10C1| Traffic Volume|2000|          Large PSVs|   6726|\n",
      "|  THA10C1| Traffic Volume|2000|     Exempt vehicles|  12448|\n",
      "|  THA10C1| Traffic Volume|2000|      Other vehicles|  17569|\n",
      "|  THA10C1| Traffic Volume|2001|   All vehicle types|1748599|\n",
      "|  THA10C1| Traffic Volume|2001|        Private cars|1372672|\n",
      "|  THA10C1| Traffic Volume|2001|      Goods vehicles| 214767|\n",
      "|  THA10C1| Traffic Volume|2001|        Motor cycles|  31589|\n",
      "|  THA10C1| Traffic Volume|2001|Tractors & Machinery|  73281|\n",
      "|  THA10C1| Traffic Volume|2001|          Small PSVs|  15799|\n",
      "|  THA10C1| Traffic Volume|2001|          Large PSVs|   6985|\n",
      "|  THA10C1| Traffic Volume|2001|     Exempt vehicles|  13744|\n",
      "|  THA10C1| Traffic Volume|2001|      Other vehicles|  19762|\n",
      "|  THA10C1| Traffic Volume|2002|   All vehicle types|1833705|\n",
      "|  THA10C1| Traffic Volume|2002|        Private cars|1437985|\n",
      "+---------+---------------+----+--------------------+-------+\n",
      "only showing top 20 rows\n",
      "\n"
     ]
    }
   ],
   "source": [
    "df.show()"
   ]
  },
  {
   "cell_type": "code",
   "execution_count": 12,
   "id": "e0369b39",
   "metadata": {},
   "outputs": [],
   "source": [
    "# Extracting values for plotting\n",
    "years = df.select(\"Year\").rdd.flatMap(lambda x: x).collect()\n",
    "traffic_volumes = df.select(\"VALUE\").rdd.flatMap(lambda x: x).collect()"
   ]
  },
  {
   "cell_type": "code",
   "execution_count": 13,
   "id": "3f2d2173",
   "metadata": {},
   "outputs": [
    {
     "data": {
      "image/png": "[encoded data removed]",
      "text/plain": [
       "<Figure size 864x432 with 1 Axes>"
      ]
     },
     "metadata": {
      "needs_background": "light"
     },
     "output_type": "display_data"
    }
   ],
   "source": [
    "# Plotting traffic volume over the years with logarithmic scale on Y-axis\n",
    "plt.figure(figsize=(12, 6))\n",
    "plt.plot(years, traffic_volumes, marker='o', linestyle='-')\n",
    "plt.yscale('log')  # Set logarithmic scale for Y-axis\n",
    "plt.title(\"Traffic Volume Over the Years\")\n",
    "plt.xlabel(\"Year\")\n",
    "plt.ylabel(\"Traffic Volume\")\n",
    "plt.grid(True)\n",
    "plt.show()"
   ]
  },
  {
   "cell_type": "code",
   "execution_count": 21,
   "id": "8e02e9bc",
   "metadata": {},
   "outputs": [],
   "source": [
    "df = df.withColumn(\"VALUE\", col(\"VALUE\").cast(\"double\"))"
   ]
  },
  {
   "cell_type": "code",
   "execution_count": 22,
   "id": "fc4064db",
   "metadata": {},
   "outputs": [
    {
     "ename": "IllegalArgumentException",
     "evalue": "requirement failed: Column VALUE must be of type numeric but was actually of type string.",
     "output_type": "error",
     "traceback": [
      "\u001b[0;31m---------------------------------------------------------------------------\u001b[0m",
      "\u001b[0;31mIllegalArgumentException\u001b[0m                  Traceback (most recent call last)",
      "\u001b[0;32m/tmp/ipykernel_18811/2337306830.py\u001b[0m in \u001b[0;36m<module>\u001b[0;34m\u001b[0m\n\u001b[1;32m      1\u001b[0m \u001b[0;31m# Defining and trainning the model Random Forest Regressor\u001b[0m\u001b[0;34m\u001b[0m\u001b[0;34m\u001b[0m\u001b[0m\n\u001b[1;32m      2\u001b[0m \u001b[0mrf\u001b[0m \u001b[0;34m=\u001b[0m \u001b[0mRandomForestRegressor\u001b[0m\u001b[0;34m(\u001b[0m\u001b[0mfeaturesCol\u001b[0m\u001b[0;34m=\u001b[0m\u001b[0;34m\"features\"\u001b[0m\u001b[0;34m,\u001b[0m \u001b[0mlabelCol\u001b[0m\u001b[0;34m=\u001b[0m\u001b[0;34m\"VALUE\"\u001b[0m\u001b[0;34m)\u001b[0m  \u001b[0;31m# Update labelCol to the correct column name\u001b[0m\u001b[0;34m\u001b[0m\u001b[0;34m\u001b[0m\u001b[0m\n\u001b[0;32m----> 3\u001b[0;31m \u001b[0mmodel\u001b[0m \u001b[0;34m=\u001b[0m \u001b[0mrf\u001b[0m\u001b[0;34m.\u001b[0m\u001b[0mfit\u001b[0m\u001b[0;34m(\u001b[0m\u001b[0mtraining_data\u001b[0m\u001b[0;34m)\u001b[0m\u001b[0;34m\u001b[0m\u001b[0;34m\u001b[0m\u001b[0m\n\u001b[0m",
      "\u001b[0;32m/usr/local/spark/python/pyspark/ml/base.py\u001b[0m in \u001b[0;36mfit\u001b[0;34m(self, dataset, params)\u001b[0m\n\u001b[1;32m    203\u001b[0m                 \u001b[0;32mreturn\u001b[0m \u001b[0mself\u001b[0m\u001b[0;34m.\u001b[0m\u001b[0mcopy\u001b[0m\u001b[0;34m(\u001b[0m\u001b[0mparams\u001b[0m\u001b[0;34m)\u001b[0m\u001b[0;34m.\u001b[0m\u001b[0m_fit\u001b[0m\u001b[0;34m(\u001b[0m\u001b[0mdataset\u001b[0m\u001b[0;34m)\u001b[0m\u001b[0;34m\u001b[0m\u001b[0;34m\u001b[0m\u001b[0m\n\u001b[1;32m    204\u001b[0m             \u001b[0;32melse\u001b[0m\u001b[0;34m:\u001b[0m\u001b[0;34m\u001b[0m\u001b[0;34m\u001b[0m\u001b[0m\n\u001b[0;32m--> 205\u001b[0;31m                 \u001b[0;32mreturn\u001b[0m \u001b[0mself\u001b[0m\u001b[0;34m.\u001b[0m\u001b[0m_fit\u001b[0m\u001b[0;34m(\u001b[0m\u001b[0mdataset\u001b[0m\u001b[0;34m)\u001b[0m\u001b[0;34m\u001b[0m\u001b[0;34m\u001b[0m\u001b[0m\n\u001b[0m\u001b[1;32m    206\u001b[0m         \u001b[0;32melse\u001b[0m\u001b[0;34m:\u001b[0m\u001b[0;34m\u001b[0m\u001b[0;34m\u001b[0m\u001b[0m\n\u001b[1;32m    207\u001b[0m             raise TypeError(\n",
      "\u001b[0;32m/usr/local/spark/python/pyspark/ml/wrapper.py\u001b[0m in \u001b[0;36m_fit\u001b[0;34m(self, dataset)\u001b[0m\n\u001b[1;32m    379\u001b[0m \u001b[0;34m\u001b[0m\u001b[0m\n\u001b[1;32m    380\u001b[0m     \u001b[0;32mdef\u001b[0m \u001b[0m_fit\u001b[0m\u001b[0;34m(\u001b[0m\u001b[0mself\u001b[0m\u001b[0;34m,\u001b[0m \u001b[0mdataset\u001b[0m\u001b[0;34m:\u001b[0m \u001b[0mDataFrame\u001b[0m\u001b[0;34m)\u001b[0m \u001b[0;34m->\u001b[0m \u001b[0mJM\u001b[0m\u001b[0;34m:\u001b[0m\u001b[0;34m\u001b[0m\u001b[0;34m\u001b[0m\u001b[0m\n\u001b[0;32m--> 381\u001b[0;31m         \u001b[0mjava_model\u001b[0m \u001b[0;34m=\u001b[0m \u001b[0mself\u001b[0m\u001b[0;34m.\u001b[0m\u001b[0m_fit_java\u001b[0m\u001b[0;34m(\u001b[0m\u001b[0mdataset\u001b[0m\u001b[0;34m)\u001b[0m\u001b[0;34m\u001b[0m\u001b[0;34m\u001b[0m\u001b[0m\n\u001b[0m\u001b[1;32m    382\u001b[0m         \u001b[0mmodel\u001b[0m \u001b[0;34m=\u001b[0m \u001b[0mself\u001b[0m\u001b[0;34m.\u001b[0m\u001b[0m_create_model\u001b[0m\u001b[0;34m(\u001b[0m\u001b[0mjava_model\u001b[0m\u001b[0;34m)\u001b[0m\u001b[0;34m\u001b[0m\u001b[0;34m\u001b[0m\u001b[0m\n\u001b[1;32m    383\u001b[0m         \u001b[0;32mreturn\u001b[0m \u001b[0mself\u001b[0m\u001b[0;34m.\u001b[0m\u001b[0m_copyValues\u001b[0m\u001b[0;34m(\u001b[0m\u001b[0mmodel\u001b[0m\u001b[0;34m)\u001b[0m\u001b[0;34m\u001b[0m\u001b[0;34m\u001b[0m\u001b[0m\n",
      "\u001b[0;32m/usr/local/spark/python/pyspark/ml/wrapper.py\u001b[0m in \u001b[0;36m_fit_java\u001b[0;34m(self, dataset)\u001b[0m\n\u001b[1;32m    376\u001b[0m \u001b[0;34m\u001b[0m\u001b[0m\n\u001b[1;32m    377\u001b[0m         \u001b[0mself\u001b[0m\u001b[0;34m.\u001b[0m\u001b[0m_transfer_params_to_java\u001b[0m\u001b[0;34m(\u001b[0m\u001b[0;34m)\u001b[0m\u001b[0;34m\u001b[0m\u001b[0;34m\u001b[0m\u001b[0m\n\u001b[0;32m--> 378\u001b[0;31m         \u001b[0;32mreturn\u001b[0m \u001b[0mself\u001b[0m\u001b[0;34m.\u001b[0m\u001b[0m_java_obj\u001b[0m\u001b[0;34m.\u001b[0m\u001b[0mfit\u001b[0m\u001b[0;34m(\u001b[0m\u001b[0mdataset\u001b[0m\u001b[0;34m.\u001b[0m\u001b[0m_jdf\u001b[0m\u001b[0;34m)\u001b[0m\u001b[0;34m\u001b[0m\u001b[0;34m\u001b[0m\u001b[0m\n\u001b[0m\u001b[1;32m    379\u001b[0m \u001b[0;34m\u001b[0m\u001b[0m\n\u001b[1;32m    380\u001b[0m     \u001b[0;32mdef\u001b[0m \u001b[0m_fit\u001b[0m\u001b[0;34m(\u001b[0m\u001b[0mself\u001b[0m\u001b[0;34m,\u001b[0m \u001b[0mdataset\u001b[0m\u001b[0;34m:\u001b[0m \u001b[0mDataFrame\u001b[0m\u001b[0;34m)\u001b[0m \u001b[0;34m->\u001b[0m \u001b[0mJM\u001b[0m\u001b[0;34m:\u001b[0m\u001b[0;34m\u001b[0m\u001b[0;34m\u001b[0m\u001b[0m\n",
      "\u001b[0;32m/usr/local/spark/python/lib/py4j-0.10.9.7-src.zip/py4j/java_gateway.py\u001b[0m in \u001b[0;36m__call__\u001b[0;34m(self, *args)\u001b[0m\n\u001b[1;32m   1320\u001b[0m \u001b[0;34m\u001b[0m\u001b[0m\n\u001b[1;32m   1321\u001b[0m         \u001b[0manswer\u001b[0m \u001b[0;34m=\u001b[0m \u001b[0mself\u001b[0m\u001b[0;34m.\u001b[0m\u001b[0mgateway_client\u001b[0m\u001b[0;34m.\u001b[0m\u001b[0msend_command\u001b[0m\u001b[0;34m(\u001b[0m\u001b[0mcommand\u001b[0m\u001b[0;34m)\u001b[0m\u001b[0;34m\u001b[0m\u001b[0;34m\u001b[0m\u001b[0m\n\u001b[0;32m-> 1322\u001b[0;31m         return_value = get_return_value(\n\u001b[0m\u001b[1;32m   1323\u001b[0m             answer, self.gateway_client, self.target_id, self.name)\n\u001b[1;32m   1324\u001b[0m \u001b[0;34m\u001b[0m\u001b[0m\n",
      "\u001b[0;32m/usr/local/spark/python/pyspark/errors/exceptions/captured.py\u001b[0m in \u001b[0;36mdeco\u001b[0;34m(*a, **kw)\u001b[0m\n\u001b[1;32m    173\u001b[0m                 \u001b[0;31m# Hide where the exception came from that shows a non-Pythonic\u001b[0m\u001b[0;34m\u001b[0m\u001b[0;34m\u001b[0m\u001b[0m\n\u001b[1;32m    174\u001b[0m                 \u001b[0;31m# JVM exception message.\u001b[0m\u001b[0;34m\u001b[0m\u001b[0;34m\u001b[0m\u001b[0m\n\u001b[0;32m--> 175\u001b[0;31m                 \u001b[0;32mraise\u001b[0m \u001b[0mconverted\u001b[0m \u001b[0;32mfrom\u001b[0m \u001b[0;32mNone\u001b[0m\u001b[0;34m\u001b[0m\u001b[0;34m\u001b[0m\u001b[0m\n\u001b[0m\u001b[1;32m    176\u001b[0m             \u001b[0;32melse\u001b[0m\u001b[0;34m:\u001b[0m\u001b[0;34m\u001b[0m\u001b[0;34m\u001b[0m\u001b[0m\n\u001b[1;32m    177\u001b[0m                 \u001b[0;32mraise\u001b[0m\u001b[0;34m\u001b[0m\u001b[0;34m\u001b[0m\u001b[0m\n",
      "\u001b[0;31mIllegalArgumentException\u001b[0m: requirement failed: Column VALUE must be of type numeric but was actually of type string."
     ]
    }
   ],
   "source": [
    "# Defining and trainning the model Random Forest Regressor\n",
    "rf = RandomForestRegressor(featuresCol=\"features\", labelCol=\"VALUE\")  # Update labelCol to the correct column name\n",
    "model = rf.fit(training_data)"
   ]
  },
  {
   "cell_type": "code",
   "execution_count": null,
   "id": "88a719a5",
   "metadata": {},
   "outputs": [],
   "source": []
  }
 ],
 "metadata": {
  "kernelspec": {
   "display_name": "Python 3 (ipykernel)",
   "language": "python",
   "name": "python3"
  },
  "language_info": {
   "codemirror_mode": {
    "name": "ipython",
    "version": 3
   },
   "file_extension": ".py",
   "mimetype": "text/x-python",
   "name": "python",
   "nbconvert_exporter": "python",
   "pygments_lexer": "ipython3",
   "version": "3.10.12"
  }
 },
 "nbformat": 4,
 "nbformat_minor": 5
}
