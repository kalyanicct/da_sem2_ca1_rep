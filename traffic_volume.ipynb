{
 "cells": [
  {
   "cell_type": "code",
   "execution_count": 1,
   "id": "e0f4a5aa",
   "metadata": {},
   "outputs": [],
   "source": [
    "# Importing necessary libraries\n",
    "from pyspark.sql import SparkSession\n",
    "from pyspark.sql.functions import col\n",
    "import matplotlib.pyplot as plt"
   ]
  },
  {
   "cell_type": "code",
   "execution_count": 2,
   "id": "6c603afb",
   "metadata": {},
   "outputs": [
    {
     "name": "stderr",
     "output_type": "stream",
     "text": [
      "24/04/01 18:31:22 WARN SparkSession: Using an existing Spark session; only runtime SQL configurations will take effect.\n"
     ]
    }
   ],
   "source": [
    "#Creating a SparkSession\n",
    "spark = SparkSession.builder \\\n",
    "    .appName(\"TrafficVolumeAnalysis\") \\\n",
    "    .getOrCreate()"
   ]
  },
  {
   "cell_type": "code",
   "execution_count": 3,
   "id": "bad0dc85",
   "metadata": {},
   "outputs": [
    {
     "name": "stderr",
     "output_type": "stream",
     "text": [
      "\r",
      "[Stage 0:>                                                          (0 + 1) / 1]\r",
      "\r",
      "                                                                                \r"
     ]
    }
   ],
   "source": [
    "#Loading the dataset into a PySpark DataFrame\n",
    "file_path = \"file:///home/hduser/Desktop/SEM2_CA1/da_sem2_ca1_rep/dataset.csv\"\n",
    "df = spark.read.csv(file_path, header=True)"
   ]
  },
  {
   "cell_type": "code",
   "execution_count": 4,
   "id": "e963345b",
   "metadata": {},
   "outputs": [
    {
     "name": "stdout",
     "output_type": "stream",
     "text": [
      "root\n",
      " |-- STATISTIC: string (nullable = true)\n",
      " |-- Statistic Label: string (nullable = true)\n",
      " |-- TLIST(A1): string (nullable = true)\n",
      " |-- Year: string (nullable = true)\n",
      " |-- C02875V03459: string (nullable = true)\n",
      " |-- Type of Vehicle: string (nullable = true)\n",
      " |-- UNIT: string (nullable = true)\n",
      " |-- VALUE: string (nullable = true)\n",
      "\n"
     ]
    }
   ],
   "source": [
    "# Displaying schema\n",
    "df.printSchema()"
   ]
  },
  {
   "cell_type": "code",
   "execution_count": 5,
   "id": "f3223e92",
   "metadata": {},
   "outputs": [
    {
     "name": "stdout",
     "output_type": "stream",
     "text": [
      "+---------+---------------+---------+----+------------+--------------------+------+-------+\n",
      "|STATISTIC|Statistic Label|TLIST(A1)|Year|C02875V03459|     Type of Vehicle|  UNIT|  VALUE|\n",
      "+---------+---------------+---------+----+------------+--------------------+------+-------+\n",
      "|  THA10C1| Traffic Volume|     2000|2000|           -|   All vehicle types|Number|1666744|\n",
      "|  THA10C1| Traffic Volume|     2000|2000|          10|        Private cars|Number|1314059|\n",
      "|  THA10C1| Traffic Volume|     2000|2000|          20|      Goods vehicles|Number| 199259|\n",
      "|  THA10C1| Traffic Volume|     2000|2000|          30|        Motor cycles|Number|  28489|\n",
      "|  THA10C1| Traffic Volume|     2000|2000|          40|Tractors & Machinery|Number|  74211|\n",
      "+---------+---------------+---------+----+------------+--------------------+------+-------+\n",
      "only showing top 5 rows\n",
      "\n"
     ]
    }
   ],
   "source": [
    "# Displaying first few rows\n",
    "df.show(5)"
   ]
  },
  {
   "cell_type": "code",
   "execution_count": 6,
   "id": "279fc901",
   "metadata": {},
   "outputs": [
    {
     "name": "stderr",
     "output_type": "stream",
     "text": [
      "24/04/01 18:31:28 WARN package: Truncated the string representation of a plan since it was too large. This behavior can be adjusted by setting 'spark.sql.debug.maxToStringFields'.\n",
      "[Stage 2:>                                                          (0 + 1) / 1]\r"
     ]
    },
    {
     "name": "stdout",
     "output_type": "stream",
     "text": [
      "+-------+---------+--------------------+-----------------+-----------------+------------------+--------------------+----------+-----------------+\n",
      "|summary|STATISTIC|     Statistic Label|        TLIST(A1)|             Year|      C02875V03459|     Type of Vehicle|      UNIT|            VALUE|\n",
      "+-------+---------+--------------------+-----------------+-----------------+------------------+--------------------+----------+-----------------+\n",
      "|  count|      621|                 621|              621|              621|               621|                 621|       621|              621|\n",
      "|   mean|     null|                null|           2011.0|           2011.0|              45.0|                null|      null|187615.0499194847|\n",
      "| stddev|     null|                null|6.638596820257663|6.638596820257663|22.933661135264696|                null|      null|566037.9054208661|\n",
      "|    min|  THA10C1|Average Kilometre...|             2000|             2000|                 -|   All vehicle types|Kilometres|             1006|\n",
      "|    max|  THA10C3|      Traffic Volume|             2022|             2022|                80|Tractors & Machinery|    Number|              970|\n",
      "+-------+---------+--------------------+-----------------+-----------------+------------------+--------------------+----------+-----------------+\n",
      "\n"
     ]
    },
    {
     "name": "stderr",
     "output_type": "stream",
     "text": [
      "\r",
      "                                                                                \r"
     ]
    }
   ],
   "source": [
    "# Summary statistics\n",
    "df.describe().show()"
   ]
  },
  {
   "cell_type": "code",
   "execution_count": 7,
   "id": "53fd3c24",
   "metadata": {},
   "outputs": [],
   "source": [
    "# Dropping columns \n",
    "columns_to_drop = ['STATISTICS', 'TLIST(A1)', 'C02875V03459', 'UNIT']\n",
    "df = df.drop(*columns_to_drop)"
   ]
  },
  {
   "cell_type": "code",
   "execution_count": 8,
   "id": "fc5032a5",
   "metadata": {},
   "outputs": [
    {
     "name": "stdout",
     "output_type": "stream",
     "text": [
      "+---------+---------------+----+--------------------+-------+\n",
      "|STATISTIC|Statistic Label|Year|     Type of Vehicle|  VALUE|\n",
      "+---------+---------------+----+--------------------+-------+\n",
      "|  THA10C1| Traffic Volume|2000|   All vehicle types|1666744|\n",
      "|  THA10C1| Traffic Volume|2000|        Private cars|1314059|\n",
      "|  THA10C1| Traffic Volume|2000|      Goods vehicles| 199259|\n",
      "|  THA10C1| Traffic Volume|2000|        Motor cycles|  28489|\n",
      "|  THA10C1| Traffic Volume|2000|Tractors & Machinery|  74211|\n",
      "+---------+---------------+----+--------------------+-------+\n",
      "only showing top 5 rows\n",
      "\n"
     ]
    }
   ],
   "source": [
    "# Displaying first few rows\n",
    "df.show(5)"
   ]
  },
  {
   "cell_type": "code",
   "execution_count": 9,
   "id": "64bf52fe",
   "metadata": {},
   "outputs": [
    {
     "name": "stdout",
     "output_type": "stream",
     "text": [
      "+-------+---------+--------------------+-----------------+--------------------+-----------------+\n",
      "|summary|STATISTIC|     Statistic Label|             Year|     Type of Vehicle|            VALUE|\n",
      "+-------+---------+--------------------+-----------------+--------------------+-----------------+\n",
      "|  count|      621|                 621|              621|                 621|              621|\n",
      "|   mean|     null|                null|           2011.0|                null|187615.0499194847|\n",
      "| stddev|     null|                null|6.638596820257663|                null|566037.9054208661|\n",
      "|    min|  THA10C1|Average Kilometre...|             2000|   All vehicle types|             1006|\n",
      "|    max|  THA10C3|      Traffic Volume|             2022|Tractors & Machinery|              970|\n",
      "+-------+---------+--------------------+-----------------+--------------------+-----------------+\n",
      "\n"
     ]
    }
   ],
   "source": [
    "# Summary statistics\n",
    "df.describe().show()"
   ]
  },
  {
   "cell_type": "code",
   "execution_count": 10,
   "id": "ddd3c11b",
   "metadata": {},
   "outputs": [],
   "source": [
    "#Filtering thr rows as required\n",
    "df = df.filter(df['Statistic Label'] == \"Traffic Volume\")"
   ]
  },
  {
   "cell_type": "code",
   "execution_count": 11,
   "id": "37890e4b",
   "metadata": {},
   "outputs": [
    {
     "name": "stdout",
     "output_type": "stream",
     "text": [
      "+---------+---------------+----+--------------------+-------+\n",
      "|STATISTIC|Statistic Label|Year|     Type of Vehicle|  VALUE|\n",
      "+---------+---------------+----+--------------------+-------+\n",
      "|  THA10C1| Traffic Volume|2000|   All vehicle types|1666744|\n",
      "|  THA10C1| Traffic Volume|2000|        Private cars|1314059|\n",
      "|  THA10C1| Traffic Volume|2000|      Goods vehicles| 199259|\n",
      "|  THA10C1| Traffic Volume|2000|        Motor cycles|  28489|\n",
      "|  THA10C1| Traffic Volume|2000|Tractors & Machinery|  74211|\n",
      "|  THA10C1| Traffic Volume|2000|          Small PSVs|  13983|\n",
      "|  THA10C1| Traffic Volume|2000|          Large PSVs|   6726|\n",
      "|  THA10C1| Traffic Volume|2000|     Exempt vehicles|  12448|\n",
      "|  THA10C1| Traffic Volume|2000|      Other vehicles|  17569|\n",
      "|  THA10C1| Traffic Volume|2001|   All vehicle types|1748599|\n",
      "|  THA10C1| Traffic Volume|2001|        Private cars|1372672|\n",
      "|  THA10C1| Traffic Volume|2001|      Goods vehicles| 214767|\n",
      "|  THA10C1| Traffic Volume|2001|        Motor cycles|  31589|\n",
      "|  THA10C1| Traffic Volume|2001|Tractors & Machinery|  73281|\n",
      "|  THA10C1| Traffic Volume|2001|          Small PSVs|  15799|\n",
      "|  THA10C1| Traffic Volume|2001|          Large PSVs|   6985|\n",
      "|  THA10C1| Traffic Volume|2001|     Exempt vehicles|  13744|\n",
      "|  THA10C1| Traffic Volume|2001|      Other vehicles|  19762|\n",
      "|  THA10C1| Traffic Volume|2002|   All vehicle types|1833705|\n",
      "|  THA10C1| Traffic Volume|2002|        Private cars|1437985|\n",
      "+---------+---------------+----+--------------------+-------+\n",
      "only showing top 20 rows\n",
      "\n"
     ]
    }
   ],
   "source": [
    "df.show()"
   ]
  },
  {
   "cell_type": "code",
   "execution_count": null,
   "id": "a3b36220",
   "metadata": {},
   "outputs": [],
   "source": []
  }
 ],
 "metadata": {
  "kernelspec": {
   "display_name": "Python 3 (ipykernel)",
   "language": "python",
   "name": "python3"
  },
  "language_info": {
   "codemirror_mode": {
    "name": "ipython",
    "version": 3
   },
   "file_extension": ".py",
   "mimetype": "text/x-python",
   "name": "python",
   "nbconvert_exporter": "python",
   "pygments_lexer": "ipython3",
   "version": "3.10.12"
  }
 },
 "nbformat": 4,
 "nbformat_minor": 5
}
